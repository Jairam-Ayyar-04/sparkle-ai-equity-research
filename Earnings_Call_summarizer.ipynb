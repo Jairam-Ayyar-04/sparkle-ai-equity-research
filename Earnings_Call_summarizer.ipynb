{
 "cells": [
  {
   "cell_type": "code",
   "execution_count": null,
   "id": "94e85de7",
   "metadata": {
    "vscode": {
     "languageId": "plaintext"
    }
   },
   "outputs": [],
   "source": [
    "!pip install google-generativeai pymupdf --quiet"
   ]
  },
  {
   "cell_type": "code",
   "execution_count": null,
   "id": "acfac740",
   "metadata": {
    "vscode": {
     "languageId": "plaintext"
    }
   },
   "outputs": [],
   "source": [
    "import fitz\n",
    "from google.colab import files\n",
    "import google.generativeai as genai\n",
    "import os\n",
    "from IPython.display import Markdown\n",
    "\n",
    "try:\n",
    "    from google.colab import userdata\n",
    "    GOOGLE_API_KEY = userdata.get('GOOGLE_API_KEY')\n",
    "except (ImportError, KeyError):\n",
    "    from dotenv import load_dotenv\n",
    "    load_dotenv()\n",
    "    GOOGLE_API_KEY = os.getenv('GOOGLE_API_KEY')\n",
    "\n",
    "if not GOOGLE_API_KEY:\n",
    "    raise ValueError(\"Google API Key not found. Please set it in Colab Secrets or a .env file.\")\n",
    "\n",
    "genai.configure(api_key=GOOGLE_API_KEY)\n",
    "model = genai.GenerativeModel(\"gemini-1.5-flash-latest\")\n",
    "print(\"Gemini model configured.\")"
   ]
  },
  {
   "cell_type": "markdown",
   "id": "75b2c1f5",
   "metadata": {},
   "source": [
    "Gemini model configured."
   ]
  },
  {
   "cell_type": "code",
   "execution_count": null,
   "id": "dc8a273e",
   "metadata": {
    "vscode": {
     "languageId": "plaintext"
    }
   },
   "outputs": [],
   "source": [
    "uploaded = files.upload()\n",
    "pdf_path = list(uploaded.keys())[0]"
   ]
  },
  {
   "cell_type": "markdown",
   "id": "79d1889f",
   "metadata": {},
   "source": [
    "18072025-RIL-Media-Analyst-Call-Transcript-Q1FY2026.pdf\n",
    "18072025-RIL-Media-Analyst-Call-Transcript-Q1FY2026.pdf(application/pdf) - 441321 bytes, last modified: 08/09/2025 - 100% done\n",
    "Saving 18072025-RIL-Media-Analyst-Call-Transcript-Q1FY2026.pdf to 18072025-RIL-Media-Analyst-Call-Transcript-Q1FY2026 (1).pdf"
   ]
  },
  {
   "cell_type": "code",
   "execution_count": null,
   "id": "24a89d15",
   "metadata": {
    "vscode": {
     "languageId": "plaintext"
    }
   },
   "outputs": [],
   "source": [
    "doc = fitz.open(pdf_path)\n",
    "text = \"\"\n",
    "for page in doc:\n",
    "    text += page.get_text()"
   ]
  },
  {
   "cell_type": "code",
   "execution_count": null,
   "id": "7014c562",
   "metadata": {
    "vscode": {
     "languageId": "plaintext"
    }
   },
   "outputs": [],
   "source": [
    "prompt = \"Summarize the following earnings call into 8 crisp bullets and one short investment take:\\n\" + text[:30000]\n",
    "resp = model.generate_content(prompt)\n",
    "Markdown(resp.text)"
   ]
  },
  {
   "cell_type": "markdown",
   "id": "3e3edd0a",
   "metadata": {},
   "source": [
    "Reliance Industries Q1 2025-26 Earnings Call Summary:\n",
    "\n",
    "Strong Overall Performance: Reliance reported 6% revenue growth and a significant 36% increase in EBITDA, driven primarily by Jio Platforms and Reliance Retail. Excluding a one-time gain, recurring EBITDA and PAT growth was still robust at 15% and 25%, respectively.\n",
    "\n",
    "Jio Platforms' Success: Jio Platforms saw 19% revenue growth and 24% EBITDA growth, fueled by its proprietary technology, leading global traffic volume, and expansion into 5G, gaming, and AI cloud services.\n",
    "\n",
    "Reliance Retail's Growth: Reliance Retail, India's largest retailer, achieved 11% revenue growth and 13% EBITDA growth, benefiting from strong consumption growth and its multi-category, omni-channel presence.\n",
    "\n",
    "O2C Segment's Resilience: The Oil to Chemicals (O2C) segment saw a slight revenue decline, but EBITDA increased by 10.8%, driven by improved fuel cracks and strong domestic placement, despite planned shutdowns. The segment benefited from limited global refinery additions and robust Indian demand.\n",
    "\n",
    "Upstream Oil and Gas Performance: Oil and gas production was slightly lower due to planned shutdowns and natural field decline, but remained above initial projections. The company expects to increase production through exploration and infrastructure development.\n",
    "\n",
    "New Energy Initiatives: Reliance continues its ambitious new energy projects, aiming for a highly integrated solar and battery manufacturing facility with a potential capacity of 125 GW, driven by captive needs and green chemicals production.\n",
    "\n",
    "FMCG Expansion: Reliance's FMCG business showed exceptional growth, with revenues doubling year-on-year. Strong market share gains are being observed across beverages, staples, and personal care.\n",
    "\n",
    "JioCinema's Media Success: JioCinema solidified its position as a leading OTT platform globally with strong MAU and paid subscriber numbers, even beyond the IPL season.\n",
    "\n",
    "Investment Take:\n",
    "\n",
    "Reliance's diversified portfolio and strong performance across key segments showcase resilience and growth potential. While some segments faced headwinds, the company’s strategic initiatives and technological advantages suggest a positive long-term outlook."
   ]
  }
 ],
 "metadata": {
  "language_info": {
   "name": "python"
  }
 },
 "nbformat": 4,
 "nbformat_minor": 5
}
