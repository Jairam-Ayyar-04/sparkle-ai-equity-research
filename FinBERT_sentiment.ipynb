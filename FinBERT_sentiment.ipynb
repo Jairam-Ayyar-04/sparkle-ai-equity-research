{
 "cells": [
  {
   "cell_type": "code",
   "execution_count": null,
   "id": "863f0cea",
   "metadata": {
    "vscode": {
     "languageId": "plaintext"
    }
   },
   "outputs": [],
   "source": [
    "!pip install transformers torch nltk pymupdf --quiet"
   ]
  },
  {
   "cell_type": "code",
   "execution_count": null,
   "id": "962ec5a7",
   "metadata": {
    "vscode": {
     "languageId": "plaintext"
    }
   },
   "outputs": [],
   "source": [
    "import fitz\n",
    "import nltk\n",
    "import torch\n",
    "import numpy as np\n",
    "from transformers import AutoTokenizer, AutoModelForSequenceClassification\n",
    "from google.colab import files"
   ]
  },
  {
   "cell_type": "code",
   "execution_count": null,
   "id": "2fb8275c",
   "metadata": {
    "vscode": {
     "languageId": "plaintext"
    }
   },
   "outputs": [],
   "source": [
    "uploaded = files.upload()\n",
    "pdf_path = list(uploaded.keys())[0]"
   ]
  },
  {
   "cell_type": "markdown",
   "id": "7b1a454c",
   "metadata": {},
   "source": [
    "18072025-RIL-Media-Analyst-Call-Transcript-Q1FY2026.pdf\n",
    "18072025-RIL-Media-Analyst-Call-Transcript-Q1FY2026.pdf(application/pdf) - 441321 bytes, last modified: 08/09/2025 - 100% done\n",
    "Saving 18072025-RIL-Media-Analyst-Call-Transcript-Q1FY2026.pdf to 18072025-RIL-Media-Analyst-Call-Transcript-Q1FY2026.pdf"
   ]
  },
  {
   "cell_type": "code",
   "execution_count": null,
   "id": "a37aaf4e",
   "metadata": {
    "vscode": {
     "languageId": "plaintext"
    }
   },
   "outputs": [],
   "source": [
    "doc = fitz.open(pdf_path)\n",
    "text = \"\"\n",
    "for page in doc:\n",
    "    text += page.get_text()"
   ]
  },
  {
   "cell_type": "code",
   "execution_count": null,
   "id": "95808347",
   "metadata": {
    "vscode": {
     "languageId": "plaintext"
    }
   },
   "outputs": [],
   "source": [
    "nltk.download(\"punkt\", quiet=True)\n",
    "nltk.download(\"punkt_tab\", quiet=True)\n",
    "sents = nltk.sent_tokenize(text)\n",
    "sents = [s.strip() for s in sents if 20 <= len(s) <= 1000]"
   ]
  },
  {
   "cell_type": "code",
   "execution_count": null,
   "id": "27f1d2de",
   "metadata": {
    "vscode": {
     "languageId": "plaintext"
    }
   },
   "outputs": [],
   "source": [
    "tokenizer = AutoTokenizer.from_pretrained(\"ProsusAI/finbert\")\n",
    "model = AutoModelForSequenceClassification.from_pretrained(\"ProsusAI/finbert\")\n",
    "model.eval()"
   ]
  },
  {
   "cell_type": "code",
   "execution_count": null,
   "id": "5da9020f",
   "metadata": {
    "vscode": {
     "languageId": "plaintext"
    }
   },
   "outputs": [],
   "source": [
    "p_pos, p_neg, p_neu = [], [], []\n",
    "batch = 16\n",
    "for i in range(0, len(sents), batch):\n",
    "    chunk = sents[i:i+batch]\n",
    "    with torch.no_grad():\n",
    "        enc = tokenizer(chunk, return_tensors=\"pt\", truncation=True, padding=True, max_length=256)\n",
    "        logits = model(**enc).logits\n",
    "        probs = torch.softmax(logits, dim=-1).cpu().numpy()\n",
    "    p_pos.extend(probs[:,0].tolist())\n",
    "    p_neg.extend(probs[:,1].tolist())\n",
    "    p_neu.extend(probs[:,2].tolist())"
   ]
  },
  {
   "cell_type": "code",
   "execution_count": null,
   "id": "ed4bba69",
   "metadata": {
    "vscode": {
     "languageId": "plaintext"
    }
   },
   "outputs": [],
   "source": [
    "p_pos = float(np.mean(p_pos))\n",
    "p_neg = float(np.mean(p_neg))\n",
    "p_neu = float(np.mean(p_neu))\n",
    "net = p_pos - p_neg\n",
    "print(f\"net={net:.3f} pos={p_pos:.3f} neg={p_neg:.3f} neu={p_neu:.3f}\")"
   ]
  },
  {
   "cell_type": "markdown",
   "id": "533ea174",
   "metadata": {},
   "source": [
    "net=0.232 pos=0.319 neg=0.087 neu=0.595"
   ]
  }
 ],
 "metadata": {
  "language_info": {
   "name": "python"
  }
 },
 "nbformat": 4,
 "nbformat_minor": 5
}
