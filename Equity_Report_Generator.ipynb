{
 "cells": [
  {
   "cell_type": "markdown",
   "id": "a54ab09e",
   "metadata": {},
   "source": [
    "# AI Equity Research Report Generator"
   ]
  },
  {
   "cell_type": "code",
   "execution_count": null,
   "id": "0565fe03",
   "metadata": {
    "vscode": {
     "languageId": "plaintext"
    }
   },
   "outputs": [],
   "source": [
    "!pip install -q google-generativeai yfinance PyMuPDF python-dotenv"
   ]
  },
  {
   "cell_type": "code",
   "execution_count": null,
   "id": "c69f32e3",
   "metadata": {
    "vscode": {
     "languageId": "plaintext"
    }
   },
   "outputs": [],
   "source": [
    "import google.generativeai as genai\n",
    "import os\n",
    "from IPython.display import Markdown\n",
    "\n",
    "# Load API key from Colab secrets or a local .env file.\n",
    "try:\n",
    "    from google.colab import userdata\n",
    "    GOOGLE_API_KEY = userdata.get('GOOGLE_API_KEY')\n",
    "except (ImportError, KeyError):\n",
    "    from dotenv import load_dotenv\n",
    "    load_dotenv()\n",
    "    GOOGLE_API_KEY = os.getenv('GOOGLE_API_KEY')\n",
    "\n",
    "if not GOOGLE_API_KEY:\n",
    "    raise ValueError(\"Google API Key not found. Please set it up in Colab Secrets or a local .env file.\")\n",
    "\n",
    "genai.configure(api_key=GOOGLE_API_KEY)\n",
    "\n",
    "# Configure the model\n",
    "model = genai.GenerativeModel('gemini-1.5-pro-latest')\n",
    "print(\"Gemini model configured.\")"
   ]
  },
  {
   "cell_type": "markdown",
   "id": "f4147a19",
   "metadata": {},
   "source": [
    "### Upload Annual Report\n",
    "Run the next cell and upload the latest annual report PDF for the company you wish to analyze."
   ]
  },
  {
   "cell_type": "code",
   "execution_count": null,
   "id": "5f66f1e9",
   "metadata": {
    "vscode": {
     "languageId": "plaintext"
    }
   },
   "outputs": [],
   "source": [
    "from google.colab import files\n",
    "import fitz  # PyMuPDF\n",
    "import io\n",
    "\n",
    "MAX_PAGES_TO_READ = 50\n",
    "annual_report_text = \"\"\n",
    "\n",
    "print(f\"Please upload the Annual Report PDF (will read first {MAX_PAGES_TO_READ} pages)...\")\n",
    "uploaded_files = files.upload()\n",
    "\n",
    "if uploaded_files:\n",
    "    file_name = next(iter(uploaded_files))\n",
    "    pdf_content = uploaded_files[file_name]\n",
    "\n",
    "    with fitz.open(stream=pdf_content, filetype=\"pdf\") as doc:\n",
    "        num_pages = min(len(doc), MAX_PAGES_TO_READ)\n",
    "        for page_num in range(num_pages):\n",
    "            page = doc.load_page(page_num)\n",
    "            annual_report_text += page.get_text()\n",
    "    \n",
    "    print(f\"\\nExtracted {len(annual_report_text):,} characters from the first {num_pages} pages of '{file_name}'.\")\n",
    "else:\n",
    "    print(\"\\nNo file uploaded. Report will be less detailed.\")"
   ]
  },
  {
   "cell_type": "code",
   "execution_count": null,
   "id": "958018e8",
   "metadata": {
    "vscode": {
     "languageId": "plaintext"
    }
   },
   "outputs": [],
   "source": [
    "import yfinance as yf\n",
    "import pandas as pd\n",
    "from datetime import date, timedelta\n",
    "\n",
    "# --- Define Stock --- \n",
    "company_ticker = \"RELIANCE\"\n",
    "company_name = \"Reliance Industries Limited\"\n",
    "yf_ticker = f\"{company_ticker}.NS\"\n",
    "\n",
    "# --- Fetch Live Market Data ---\n",
    "print(f\"Fetching live market data for {company_name}...\")\n",
    "market_data_context = \"\"\n",
    "try:\n",
    "    ticker = yf.Ticker(yf_ticker)\n",
    "    hist = ticker.history(period=\"1y\")\n",
    "    \n",
    "    if hist.empty:\n",
    "        raise ValueError(f\"No price data found for {yf_ticker}.\")\n",
    "\n",
    "    high_52_week = hist['High'].max()\n",
    "    low_52_week = hist['Low'].min()\n",
    "    last_close = hist['Close'].iloc[-1]\n",
    "    yearly_return = ((hist['Close'].iloc[-1] / hist['Close'].iloc[0]) - 1) * 100\n",
    "    \n",
    "    news_headlines = [item.get('title') for item in ticker.news[:5] if item.get('title')]\n",
    "    news_string = \"\\n- \".join(news_headlines)\n",
    "\n",
    "    market_data_context = f\"\"\"\n",
    "    Recent News Headlines:\n",
    "    - {news_string}\n",
    "\n",
    "    Key Stock Price Metrics:\n",
    "    - Last Closing Price: ₹{last_close:,.2f}\n",
    "    - 52-Week High: ₹{high_52_week:,.2f}\n",
    "    - 52-Week Low: ₹{low_52_week:,.2f}\n",
    "    - 1-Year Return: {yearly_return:.2f}%\n",
    "    \"\"\"\n",
    "    print(\"Live market data fetched successfully.\")\n",
    "except Exception as e:\n",
    "    print(f\"Could not fetch market data from yfinance. Error: {e}\")\n",
    "    market_data_context = \"Live market data could not be fetched.\""
   ]
  },
  {
   "cell_type": "code",
   "execution_count": null,
   "id": "241f4919",
   "metadata": {
    "vscode": {
     "languageId": "plaintext"
    }
   },
   "outputs": [],
   "source": [
    "comprehensive_prompt = f\"\"\"\n",
    "Act as a senior equity research analyst. Write a highly detailed equity research report for {company_name} ({company_ticker}).\n",
    "\n",
    "Use the following two sources: the company's Annual Report text and live market data.\n",
    "Synthesize information from BOTH sources to construct your analysis. Be thorough and provide insightful analysis, not just a summary.\n",
    "\n",
    "---BEGIN ANNUAL REPORT TEXT---\n",
    "{annual_report_text}\n",
    "---END ANNUAL REPORT TEXT---\n",
    "\n",
    "---BEGIN LIVE MARKET DATA---\n",
    "{market_data_context}\n",
    "---END LIVE MARKET DATA---\n",
    "\n",
    "**Equity Research Report: {company_name} ({company_ticker})**\n",
    "\n",
    "**1. Executive Summary:**\n",
    "- Provide a concise overview of the business, its strategic direction, key financial highlights, and your overall investment thesis.\n",
    "\n",
    "**2. Company Profile & Business Segments:**\n",
    "- Corporate History & Vision: Summarize the company's evolution and strategic vision from the report.\n",
    "- Business Segment Deep Dive: For each major business segment, analyze its performance, key drivers, and outlook based on the annual report.\n",
    "\n",
    "**3. Industry Analysis & Competitive Landscape:**\n",
    "- Analyze the industry structure for the company's key segments, discussing market size, growth drivers, and major competitors.\n",
    "\n",
    "**4. In-Depth Financial Analysis (Based on Annual Report):**\n",
    "- Income Statement Analysis: Analyze trends in revenue, EBITDA, and Profit After Tax.\n",
    "- Balance Sheet Analysis: Examine debt levels (Debt-to-Equity ratio), liquidity (Current Ratio), and asset base.\n",
    "- Cash Flow Analysis: Discuss cash from operations, investing, and financing activities.\n",
    "\n",
    "**5. Management Discussion & Corporate Governance:**\n",
    "- Summarize key points from the \"Management Discussion and Analysis\" section.\n",
    "- Briefly comment on the board structure and key management.\n",
    "\n",
    "**6. Stock Price Performance & Valuation:**\n",
    "- Analyze the stock's performance using the provided live metrics.\n",
    "- Discuss common valuation methodologies (e.g., P/E, EV/EBITDA) and compare to competitors if possible.\n",
    "\n",
    "**7. Investment Risks:**\n",
    "- Detail the key risks highlighted in the annual report (market, operational, regulatory).\n",
    "\n",
    "**8. Final Investment Thesis & Recommendation:**\n",
    "- Bull Case: Primary reasons for an optimistic outlook.\n",
    "- Bear Case: Primary risks and reasons for caution.\n",
    "- Conclusion: Conclude with a final, well-reasoned investment outlook.\n",
    "\n",
    "**9. Disclaimer:**\n",
    "- Include a standard professional disclaimer.\n",
    "\"\"\""
   ]
  },
  {
   "cell_type": "code",
   "execution_count": null,
   "id": "3415023c",
   "metadata": {
    "vscode": {
     "languageId": "plaintext"
    }
   },
   "outputs": [],
   "source": [
    "print(f\"Generating comprehensive equity research report for {company_ticker}...\")\n",
    "\n",
    "try:\n",
    "    response = model.generate_content(comprehensive_prompt)\n",
    "    display(Markdown(response.text))\n",
    "except Exception as e:\n",
    "    print(f\"An error occurred during generation: {e}\")"
   ]
  }
 ],
 "metadata": {
  "language_info": {
   "name": "python"
  }
 },
 "nbformat": 4,
 "nbformat_minor": 5
}
