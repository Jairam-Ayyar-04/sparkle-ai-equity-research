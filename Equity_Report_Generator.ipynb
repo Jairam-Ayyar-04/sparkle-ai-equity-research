{
 "cells": [
  {
   "cell_type": "markdown",
   "id": "a54ab09e",
   "metadata": {},
   "source": [
    "# AI Equity Research Report Generator\n",
    "\n",
    "This notebook generates a comprehensive equity research report by combining data from a company's annual report with live market data from Yahoo Finance, and then using Google's Gemini model for analysis and generation."
   ]
  },
  {
   "cell_type": "markdown",
   "id": "4ad264da",
   "metadata": {},
   "source": [
    "## 1. Installation\n",
    "\n",
    "This cell installs the required Python libraries for the project: the Google AI SDK, yfinance for market data, PyMuPDF for reading PDF files, and python-dotenv for managing local API keys."
   ]
  },
  {
   "cell_type": "code",
   "execution_count": null,
   "id": "0565fe03",
   "metadata": {
    "vscode": {
     "languageId": "plaintext"
    }
   },
   "outputs": [],
   "source": [
    "!pip install -q google-generativeai yfinance PyMuPDF python-dotenv"
   ]
  },
  {
   "cell_type": "markdown",
   "id": "4bbd76be",
   "metadata": {},
   "source": [
    "## 2. Configuration\n",
    "\n",
    "This cell configures the connection to the Gemini API. It securely loads the `GOOGLE_API_KEY` from either Google Colab's Secrets Manager or a local `.env` file, making the notebook portable and safe to share."
   ]
  },
  {
   "cell_type": "code",
   "execution_count": null,
   "id": "c69f32e3",
   "metadata": {
    "vscode": {
     "languageId": "plaintext"
    }
   },
   "outputs": [],
   "source": [
    "import google.generativeai as genai\n",
    "import os\n",
    "from IPython.display import Markdown\n",
    "\n",
    "# Load API key from Colab secrets or a local .env file.\n",
    "try:\n",
    "    from google.colab import userdata\n",
    "    GOOGLE_API_KEY = userdata.get('GOOGLE_API_KEY')\n",
    "except (ImportError, KeyError):\n",
    "    from dotenv import load_dotenv\n",
    "    load_dotenv()\n",
    "    GOOGLE_API_KEY = os.getenv('GOOGLE_API_KEY')\n",
    "\n",
    "if not GOOGLE_API_KEY:\n",
    "    raise ValueError(\"Google API Key not found. Please set it up in Colab Secrets or a local .env file.\")\n",
    "\n",
    "genai.configure(api_key=GOOGLE_API_KEY)\n",
    "\n",
    "# Configure the model\n",
    "model = genai.GenerativeModel('gemini-1.5-flash-latest')\n",
    "print(\"Gemini model configured.\")"
   ]
  },
  {
   "cell_type": "markdown",
   "id": "f4147a19",
   "metadata": {},
   "source": [
    "## 3. Upload Annual Report\n",
    "\n",
    "Run the next cell to upload the company's annual report. The script will extract text from the first 50 pages, which typically contain the most critical summaries and management discussions. This page limit is a safeguard against exceeding the free-tier token limits of the API."
   ]
  },
  {
   "cell_type": "code",
   "execution_count": null,
   "id": "5f66f1e9",
   "metadata": {
    "vscode": {
     "languageId": "plaintext"
    }
   },
   "outputs": [],
   "source": [
    "from google.colab import files\n",
    "import fitz  # PyMuPDF\n",
    "import io\n",
    "\n",
    "MAX_PAGES_TO_READ = 50\n",
    "annual_report_text = \"\"\n",
    "\n",
    "print(f\"Please upload the Annual Report PDF (will read first {MAX_PAGES_TO_READ} pages)...\")\n",
    "uploaded_files = files.upload()\n",
    "\n",
    "if uploaded_files:\n",
    "    file_name = next(iter(uploaded_files))\n",
    "    pdf_content = uploaded_files[file_name]\n",
    "\n",
    "    with fitz.open(stream=pdf_content, filetype=\"pdf\") as doc:\n",
    "        num_pages = min(len(doc), MAX_PAGES_TO_READ)\n",
    "        for page_num in range(num_pages):\n",
    "            page = doc.load_page(page_num)\n",
    "            annual_report_text += page.get_text()\n",
    "    \n",
    "    print(f\"\\nExtracted {len(annual_report_text):,} characters from the first {num_pages} pages of '{file_name}'.\")\n",
    "else:\n",
    "    print(\"\\nNo file uploaded. Report will be less detailed.\")"
   ]
  },
  {
   "cell_type": "markdown",
   "id": "48747d13",
   "metadata": {},
   "source": [
    "## 4. Fetch Live Market Data\n",
    "\n",
    "This cell defines the target company and fetches the latest market data using the `yfinance` library. This includes a business summary and key stock price metrics over the last year. This live data complements the historical data found in the annual report."
   ]
  },
  {
   "cell_type": "code",
   "execution_count": null,
   "id": "958018e8",
   "metadata": {
    "vscode": {
     "languageId": "plaintext"
    }
   },
   "outputs": [],
   "source": [
    "import yfinance as yf\n",
    "import pandas as pd\n",
    "from datetime import date, timedelta\n",
    "\n",
    "# --- Define Stock --- \n",
    "company_ticker = \"RELIANCE\"\n",
    "company_name = \"Reliance Industries Limited\"\n",
    "yf_ticker = f\"{company_ticker}.NS\"\n",
    "\n",
    "# --- Fetch Live Market Data ---\n",
    "print(f\"Fetching live market data for {company_name}...\")\n",
    "market_data_context = \"\"\n",
    "try:\n",
    "    ticker = yf.Ticker(yf_ticker)\n",
    "    hist = ticker.history(period=\"1y\")\n",
    "    \n",
    "    if hist.empty:\n",
    "        raise ValueError(f\"No price data found for {yf_ticker}.\")\n",
    "\n",
    "    high_52_week = hist['High'].max()\n",
    "    low_52_week = hist['Low'].min()\n",
    "    last_close = hist['Close'].iloc[-1]\n",
    "    yearly_return = ((hist['Close'].iloc[-1] / hist['Close'].iloc[0]) - 1) * 100\n",
    "    \n",
    "    info = ticker.info\n",
    "    business_summary = info.get('longBusinessSummary', 'Not available.')\n",
    "\n",
    "    market_data_context = f\"\"\"\n",
    "    Business Summary: {business_summary}\n",
    "\n",
    "    Key Stock Price Metrics:\n",
    "    - Last Closing Price: ₹{last_close:,.2f}\n",
    "    - 52-Week High: ₹{high_52_week:,.2f}\n",
    "    - 52-Week Low: ₹{low_52_week:,.2f}\n",
    "    - 1-Year Return: {yearly_return:.2f}%\n",
    "    \"\"\"\n",
    "    print(\"Live market data fetched successfully.\")\n",
    "except Exception as e:\n",
    "    print(f\"Could not fetch market data from yfinance. Error: {e}\")\n",
    "    market_data_context = \"Live market data could not be fetched.\""
   ]
  },
  {
   "cell_type": "markdown",
   "id": "ab3269b7",
   "metadata": {},
   "source": [
    "## 5. Verify Fetched Data (Optional)\n",
    "\n",
    "This cell is for debugging. It prints the key variables created in the data-fetching step to verify that the information was retrieved correctly before it is sent to the AI model."
   ]
  },
  {
   "cell_type": "code",
   "execution_count": null,
   "id": "af2c2383",
   "metadata": {
    "vscode": {
     "languageId": "plaintext"
    }
   },
   "outputs": [],
   "source": [
    "# This cell is for debugging and verifying the data fetched from yfinance.\n",
    "print(\"--- Checking yfinance Outputs ---\")\n",
    "\n",
    "print(\"\\n[Business Summary]:\")\n",
    "print(business_summary)\n",
    "print(\"\\n\" + \"=\"*50)\n",
    "\n",
    "print(\"\\n[Stock Price Metrics]:\")\n",
    "# Check if the 'last_close' variable exists and is a number before printing\n",
    "if 'last_close' in locals() and isinstance(last_close, (int, float)):\n",
    "    print(f\"Last Close Price: ₹{last_close:,.2f}\")\n",
    "    print(f\"52-Week High: ₹{high_52_week:,.2f}\")\n",
    "    print(f\"52-Week Low: ₹{low_52_week:,.2f}\")\n",
    "    print(f\"1-Year Return: {yearly_return:.2f}%\")\n",
    "else:\n",
    "    print(\"Stock price metrics were not fetched.\")"
   ]
  },
  {
   "cell_type": "markdown",
   "id": "8b70cc04",
   "metadata": {},
   "source": [
    "--- Checking yfinance Outputs ---\n",
    "\n",
    "[Business Summary]:\n",
    "Reliance Industries Limited engages in the hydrocarbon exploration and production, oil and chemicals, retail, and digital service businesses worldwide. It operates through Oil to Chemicals, Oil and Gas, Retail, Digital Services, and Others segments. The company offers refining and marketing products, including liquefied petroleum gas, propylene, naphtha, gasoline, jet/aviation turbine fuel, kerosine oil, diesel, sulphur, and petroleum coke. It also provides polymers, including high-density and low-density polyethylene (PE), linear low-density PE, homopolymer, random and impact copolymer, and polyvinyl chloride; fibre intermediates, such as purified terephthalic acid, and ethylene glycols and oxide; aromatics, such as paraxylene, ortho xylene, benzene, and linear alkyl benzene and paraffin; and textiles comprising fabrics, apparel, and auto furnishings. In addition, the company offers elastomers, such as polybutadiene rubber, styrene butadiene rubber, and butyl rubber; fibre and yarn polyesters; and bioenergy solutions, consisting of compressed biogas, and pellets and briquettes. Further, it engages in oil and gas exploration and production activities; and operates various stores comprising supermarket, hypermarket, wholesale cash and carry, specialty, and online stores, as well as stores that offer apparel, beauty and cosmetics, accessories, footwear, consumer electronics, and others. Additionally, the company operates media and entertainment platforms, and Network18 and television channels; publishes magazines; and offers highway hospitality and fleet management services. It also provides digital services, including connectivity, fibre, mobile devices, apps, business, and other digital solutions. The company was founded in 1957 and is based in Mumbai, India.\n",
    "\n",
    "==================================================\n",
    "\n",
    "[Stock Price Metrics]:\n",
    "Last Close Price: ₹1,375.00\n",
    "52-Week High: ₹1,544.83\n",
    "52-Week Low: ₹1,110.42\n",
    "1-Year Return: -7.53%"
   ]
  },
  {
   "cell_type": "markdown",
   "id": "87ab0f3c",
   "metadata": {},
   "source": [
    "## 5. Define the Master Prompt\n",
    "\n",
    "This cell constructs the final, comprehensive prompt that will be sent to the Gemini model. It bundles the extracted annual report text and the live market data together and provides a detailed structure for the desired output."
   ]
  },
  {
   "cell_type": "code",
   "execution_count": null,
   "id": "241f4919",
   "metadata": {
    "vscode": {
     "languageId": "plaintext"
    }
   },
   "outputs": [],
   "source": [
    "comprehensive_prompt = f\"\"\"\n",
    "Act as a senior equity research analyst. Write a highly detailed equity research report for {company_name} ({company_ticker}).\n",
    "\n",
    "Use the following two sources: the company's Annual Report text and live market data.\n",
    "Synthesize information from BOTH sources to construct your analysis. Be thorough and provide insightful analysis, not just a summary.\n",
    "\n",
    "---BEGIN ANNUAL REPORT TEXT---\n",
    "{annual_report_text}\n",
    "---END ANNUAL REPORT TEXT---\n",
    "\n",
    "---BEGIN LIVE MARKET DATA---\n",
    "{market_data_context}\n",
    "---END LIVE MARKET DATA---\n",
    "\n",
    "**Equity Research Report: {company_name} ({company_ticker})**\n",
    "\n",
    "**1. Executive Summary:**\n",
    "- Provide a concise overview of the business, its strategic direction, key financial highlights, and your overall investment thesis.\n",
    "\n",
    "**2. Company Profile & Business Segments:**\n",
    "- Corporate History & Vision: Summarize the company's evolution and strategic vision from the report.\n",
    "- Business Segment Deep Dive: For each major business segment, analyze its performance, key drivers, and outlook based on the annual report.\n",
    "\n",
    "**3. Industry Analysis & Competitive Landscape:**\n",
    "- Analyze the industry structure for the company's key segments, discussing market size, growth drivers, and major competitors.\n",
    "\n",
    "**4. In-Depth Financial Analysis (Based on Annual Report):**\n",
    "- Income Statement Analysis: Analyze trends in revenue, EBITDA, and Profit After Tax.\n",
    "- Balance Sheet Analysis: Examine debt levels (Debt-to-Equity ratio), liquidity (Current Ratio), and asset base.\n",
    "- Cash Flow Analysis: Discuss cash from operations, investing, and financing activities.\n",
    "\n",
    "**5. Management Discussion & Corporate Governance:**\n",
    "- Summarize key points from the \"Management Discussion and Analysis\" section.\n",
    "- Briefly comment on the board structure and key management.\n",
    "\n",
    "**6. Stock Price Performance & Valuation:**\n",
    "- Analyze the stock's performance using the provided live metrics.\n",
    "- Discuss common valuation methodologies (e.g., P/E, EV/EBITDA) and compare to competitors if possible.\n",
    "\n",
    "**7. Investment Risks:**\n",
    "- Detail the key risks highlighted in the annual report (market, operational, regulatory).\n",
    "\n",
    "**8. Final Investment Thesis & Recommendation:**\n",
    "- Bull Case: Primary reasons for an optimistic outlook.\n",
    "- Bear Case: Primary risks and reasons for caution.\n",
    "- Conclusion: Conclude with a final, well-reasoned investment outlook.\n",
    "\n",
    "**9. Disclaimer:**\n",
    "- Include a standard professional disclaimer.\n",
    "\"\"\""
   ]
  },
  {
   "cell_type": "markdown",
   "id": "161bd548",
   "metadata": {},
   "source": [
    "## 6. Generate the Report\n",
    "\n",
    "This final cell sends the request to the Gemini model and displays the generated report."
   ]
  },
  {
   "cell_type": "code",
   "execution_count": null,
   "id": "3415023c",
   "metadata": {
    "vscode": {
     "languageId": "plaintext"
    }
   },
   "outputs": [],
   "source": [
    "print(f\"Generating comprehensive equity research report for {company_ticker}...\")\n",
    "\n",
    "try:\n",
    "    response = model.generate_content(comprehensive_prompt)\n",
    "    display(Markdown(response.text))\n",
    "except Exception as e:\n",
    "    print(f\"An error occurred during generation: {e}\")"
   ]
  },
  {
   "cell_type": "markdown",
   "id": "2df4f2cb",
   "metadata": {},
   "source": [
    "Generating comprehensive equity research report for RELIANCE...\n",
    "Equity Research Report: Reliance Industries Limited (RELIANCE)\n",
    "\n",
    "Date: October 26, 2023\n",
    "\n",
    "Analyst: [Your Name], Senior Equity Research Analyst\n",
    "\n",
    "1. Executive Summary:\n",
    "\n",
    "Reliance Industries Limited (RIL) is India's largest private sector enterprise, a diversified conglomerate with significant presence in energy (Oil to Chemicals & Oil and Gas), retail, digital services (Jio), and media and entertainment. While FY24-25 showed resilient performance despite global headwinds, with consolidated revenue increasing by 7.1% to ₹10,71,174 crore and EBITDA growing by 2.9% to ₹1,83,422 crore, the stock has underperformed the market over the past year (-7.53% return). RIL’s ambitious Net Carbon Zero target by 2035 and significant investments in new energy present both significant opportunities and considerable execution risks. While the diversification provides a buffer, the O2C segment’s profitability remains vulnerable to global commodity price fluctuations. We currently rate RIL as a Hold, pending clearer visibility on the success of its new energy initiatives and stabilization in the O2C segment.\n",
    "\n",
    "2. Company Profile & Business Segments:\n",
    "\n",
    "Corporate History & Vision: Founded in 1957 by Dhirubhai Ambani, RIL has consistently expanded its footprint across diverse sectors, guided by a vision of \"Growth is Life\" and a commitment to India's development (\"What is good for India is good for Reliance\"). The company is transitioning into a new-age deep-tech enterprise, investing heavily in R&D across AI, renewable energy, and advanced materials.\n",
    "\n",
    "Business Segment Deep Dive:\n",
    "\n",
    "Oil to Chemicals (O2C): This segment, though experiencing an EBITDA decline of 11.9% in FY24-25 due to weaker fuel cracks and lower petrochemical margins, remains a significant revenue and profit contributor. The annual report highlights resilience through disciplined cost management and strong domestic placement. However, global overcapacity and volatile commodity prices pose ongoing challenges.\n",
    "\n",
    "Oil and Gas: This segment delivered record EBITDA, driven by increased output from KG-D6 and CBM blocks, boosting India's energy independence. Further production augmentation is planned, aligning with India's increasing gas demand. However, the segment's profitability is sensitive to global LNG prices.\n",
    "\n",
    "Retail: Reliance Retail maintains its position as India's largest retailer, crossing ₹3,30,000 crore in turnover and expanding its store footprint to 19,340. Growth was driven by strong rural demand and expansion in various consumption baskets (fashion, grocery, electronics). The omni-channel strategy and focus on own brands are key strengths.\n",
    "\n",
    "Digital Services (Jio): Jio remains a key growth engine, with 488 million subscribers and the world's largest data network. The 5G rollout and fixed wireless access (AirFiber) are driving significant growth, although EBITDA margins contracted slightly. The expansion into AI services represents a potential future growth driver.\n",
    "\n",
    "Media and Entertainment: The merger of Viacom18 and Star India created JioStar, India's largest media platform, achieving significant viewership gains across various genres. The integrated JioHotstar streaming service experienced record viewership. However, content costs and competition remain significant challenges.\n",
    "\n",
    "3. Industry Analysis & Competitive Landscape:\n",
    "\n",
    "O2C: The global refining industry faces overcapacity, particularly from China, leading to volatile margins. Key competitors include global majors like Saudi Aramco, Sinopec, and ExxonMobil. In India, RIL’s integrated model offers a cost advantage.\n",
    "\n",
    "Oil and Gas: The Indian oil and gas sector is characterized by increasing domestic demand and government initiatives to boost production. Competitors include ONGC and other private players.\n",
    "\n",
    "Retail: The Indian retail market is experiencing rapid growth, driven by rising disposable incomes and increasing urbanization. Major competitors include Tata Group, Aditya Birla Group, and international players like Walmart. RIL’s scale and omni-channel presence provide a strong competitive advantage.\n",
    "\n",
    "Digital Services: The Indian telecom sector is highly competitive, with major players like Bharti Airtel and Vodafone Idea. Jio’s dominance in data and 5G presents a strong position.\n",
    "\n",
    "Media and Entertainment: The Indian media landscape is fragmented, with increasing competition from both domestic and international players in the digital space. Disney Star's strategic alliance with RIL strengthens its position in the market.\n",
    "\n",
    "4. In-Depth Financial Analysis (Based on Annual Report):\n",
    "\n",
    "Income Statement Analysis: Consolidated revenue growth was healthy (7.1% YoY), driven primarily by Retail and Digital Services. However, the O2C segment's EBITDA decline negatively impacted overall profitability. Net profit growth was modest (2.9% YoY).\n",
    "\n",
    "Balance Sheet Analysis: RIL maintains a conservative balance sheet with a Debt-to-Equity ratio of 0.41:1 as of March 31, 2025. The company’s investment-grade credit ratings reflect its strong financial position. Liquidity appears healthy, supported by robust internal cash flow generation.\n",
    "\n",
    "Cash Flow Analysis: The report highlights strong cash profit generation, which adequately covered the significant capital expenditure (₹1,31,107 crore). Investments were focused on new O2C projects, retail expansion, digital infrastructure, and new energy initiatives.\n",
    "\n",
    "5. Management Discussion & Corporate Governance:\n",
    "\n",
    "The Management Discussion and Analysis (MDA) emphasizes RIL’s resilient performance amidst global volatility and highlights the strength of its diversified model. The MDA also emphasizes the company’s strategic shift towards a technology-driven, deep-tech enterprise, focusing on new energy and digital services as key growth drivers. The board structure is diverse, with a mix of executive and independent directors, indicating a reasonably robust corporate governance framework.\n",
    "\n",
    "6. Stock Price Performance & Valuation:\n",
    "\n",
    "Stock Performance: The stock price closed at ₹1,375.00, significantly below its 52-week high of ₹1,544.83, indicating a 1-year return of -7.53%. The current price is trading near the lower end of its 52-week range.\n",
    "\n",
    "Valuation: A precise valuation requires detailed projections, but a comparative analysis using P/E and EV/EBITDA multiples relative to peers (Bharti Airtel, Tata Group companies) would be necessary for a more accurate picture. The current valuation seems to reflect investor concerns regarding the O2C segment's profitability and execution risks in the new energy business.\n",
    "\n",
    "7. Investment Risks:\n",
    "\n",
    "Commodity Price Volatility: RIL's O2C and Oil and Gas segments are heavily exposed to global commodity price fluctuations, which can significantly impact profitability.\n",
    "\n",
    "Geopolitical Risks: Global geopolitical instability can affect crude oil prices and energy demand, impacting RIL's O2C and Oil and Gas businesses.\n",
    "\n",
    "Regulatory Risks: Changes in government regulations, particularly those related to energy transition and environmental protection, could pose challenges to RIL's operations.\n",
    "\n",
    "Execution Risk (New Energy): The ambitious Net Carbon Zero target by 2035 requires significant capital investment and technological advancements. Failure to execute on this plan effectively could negatively impact investor sentiment and the company's long-term value.\n",
    "\n",
    "Competition: Intense competition in the retail, telecom, and media and entertainment sectors poses a constant threat.\n",
    "\n",
    "8. Final Investment Thesis & Recommendation:\n",
    "\n",
    "Bull Case: Successful execution of RIL's new energy initiatives, stabilization of global commodity prices, and continued strong growth in retail and digital services could drive significant future growth and enhance the company’s valuation. The diversification across multiple sectors serves as a hedge against sector-specific downturns.\n",
    "\n",
    "Bear Case: Failure to meet the Net Carbon Zero targets, prolonged weakness in the O2C segment due to global overcapacity and intense price competition, and unexpected regulatory hurdles could significantly impact RIL's future performance and share price.\n",
    "\n",
    "Conclusion: RIL's diversification and strong fundamentals offer some protection, but the current valuation appears to reflect significant investor uncertainty regarding the company’s new energy ambitions and its O2C segment’s outlook. We recommend a Hold rating, pending greater clarity on the execution of its new energy strategy and stabilization in the O2C sector. Further research and more detailed financial modeling are required to provide a definitive buy or sell recommendation.\n",
    "\n",
    "9. Disclaimer:\n",
    "\n",
    "This report is for informational purposes only and does not constitute investment advice. The information contained herein is based on publicly available information and the analyst's independent judgment. The analyst may hold a position in the securities discussed in this report. Investing involves risk, and past performance is not indicative of future results. Consult with a financial advisor before making any investment decisions.tolerance. Past performance is not indicative of future results."
   ]
  }
 ],
 "metadata": {
  "language_info": {
   "name": "python"
  }
 },
 "nbformat": 4,
 "nbformat_minor": 5
}
